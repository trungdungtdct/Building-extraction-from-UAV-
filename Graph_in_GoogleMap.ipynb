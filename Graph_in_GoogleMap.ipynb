{
  "nbformat": 4,
  "nbformat_minor": 0,
  "metadata": {
    "colab": {
      "provenance": [],
      "authorship_tag": "ABX9TyO2yJcqFfpKdOA3qZc/MG/V",
      "include_colab_link": true
    },
    "kernelspec": {
      "name": "python3",
      "display_name": "Python 3"
    },
    "language_info": {
      "name": "python"
    }
  },
  "cells": [
    {
      "cell_type": "markdown",
      "metadata": {
        "id": "view-in-github",
        "colab_type": "text"
      },
      "source": [
        "<a href=\"https://colab.research.google.com/github/trungdungtdct/Building-extraction-from-UAV-/blob/main/Graph_in_GoogleMap.ipynb\" target=\"_parent\"><img src=\"https://colab.research.google.com/assets/colab-badge.svg\" alt=\"Open In Colab\"/></a>"
      ]
    },
    {
      "cell_type": "code",
      "execution_count": 1,
      "metadata": {
        "colab": {
          "base_uri": "https://localhost:8080/",
          "height": 224
        },
        "id": "OadrEovrkTW-",
        "outputId": "ef699425-d1f6-417c-a966-4571812b21f2"
      },
      "outputs": [
        {
          "output_type": "stream",
          "name": "stdout",
          "text": [
            "(204, 7)\n"
          ]
        },
        {
          "output_type": "execute_result",
          "data": {
            "text/plain": [
              "   DELIVERY_WARD_LATITUDE  DELIVERY_WARD_LONGITUDE     PROVINCE BRANCH_CODE  \\\n",
              "0                9.946490               106.328108     Trà Vinh         TXT   \n",
              "1               10.250815               106.002399    Vĩnh Long         NMW   \n",
              "2               10.678836               106.601911  Hồ Chí Minh         DRV   \n",
              "3               10.712544               106.695103  Hồ Chí Minh         MTM   \n",
              "4               10.722063               106.525835  Hồ Chí Minh         KIY   \n",
              "\n",
              "  AREA REGION  DEMAND  \n",
              "0   MN    R07     399  \n",
              "1   MN    R07    1585  \n",
              "2   MN    R06     599  \n",
              "3   MN    R06   77602  \n",
              "4   MN    R06    2290  "
            ],
            "text/html": [
              "\n",
              "  <div id=\"df-b22fa285-b047-4e1a-8d5f-9f0cd536e4b1\" class=\"colab-df-container\">\n",
              "    <div>\n",
              "<style scoped>\n",
              "    .dataframe tbody tr th:only-of-type {\n",
              "        vertical-align: middle;\n",
              "    }\n",
              "\n",
              "    .dataframe tbody tr th {\n",
              "        vertical-align: top;\n",
              "    }\n",
              "\n",
              "    .dataframe thead th {\n",
              "        text-align: right;\n",
              "    }\n",
              "</style>\n",
              "<table border=\"1\" class=\"dataframe\">\n",
              "  <thead>\n",
              "    <tr style=\"text-align: right;\">\n",
              "      <th></th>\n",
              "      <th>DELIVERY_WARD_LATITUDE</th>\n",
              "      <th>DELIVERY_WARD_LONGITUDE</th>\n",
              "      <th>PROVINCE</th>\n",
              "      <th>BRANCH_CODE</th>\n",
              "      <th>AREA</th>\n",
              "      <th>REGION</th>\n",
              "      <th>DEMAND</th>\n",
              "    </tr>\n",
              "  </thead>\n",
              "  <tbody>\n",
              "    <tr>\n",
              "      <th>0</th>\n",
              "      <td>9.946490</td>\n",
              "      <td>106.328108</td>\n",
              "      <td>Trà Vinh</td>\n",
              "      <td>TXT</td>\n",
              "      <td>MN</td>\n",
              "      <td>R07</td>\n",
              "      <td>399</td>\n",
              "    </tr>\n",
              "    <tr>\n",
              "      <th>1</th>\n",
              "      <td>10.250815</td>\n",
              "      <td>106.002399</td>\n",
              "      <td>Vĩnh Long</td>\n",
              "      <td>NMW</td>\n",
              "      <td>MN</td>\n",
              "      <td>R07</td>\n",
              "      <td>1585</td>\n",
              "    </tr>\n",
              "    <tr>\n",
              "      <th>2</th>\n",
              "      <td>10.678836</td>\n",
              "      <td>106.601911</td>\n",
              "      <td>Hồ Chí Minh</td>\n",
              "      <td>DRV</td>\n",
              "      <td>MN</td>\n",
              "      <td>R06</td>\n",
              "      <td>599</td>\n",
              "    </tr>\n",
              "    <tr>\n",
              "      <th>3</th>\n",
              "      <td>10.712544</td>\n",
              "      <td>106.695103</td>\n",
              "      <td>Hồ Chí Minh</td>\n",
              "      <td>MTM</td>\n",
              "      <td>MN</td>\n",
              "      <td>R06</td>\n",
              "      <td>77602</td>\n",
              "    </tr>\n",
              "    <tr>\n",
              "      <th>4</th>\n",
              "      <td>10.722063</td>\n",
              "      <td>106.525835</td>\n",
              "      <td>Hồ Chí Minh</td>\n",
              "      <td>KIY</td>\n",
              "      <td>MN</td>\n",
              "      <td>R06</td>\n",
              "      <td>2290</td>\n",
              "    </tr>\n",
              "  </tbody>\n",
              "</table>\n",
              "</div>\n",
              "    <div class=\"colab-df-buttons\">\n",
              "\n",
              "  <div class=\"colab-df-container\">\n",
              "    <button class=\"colab-df-convert\" onclick=\"convertToInteractive('df-b22fa285-b047-4e1a-8d5f-9f0cd536e4b1')\"\n",
              "            title=\"Convert this dataframe to an interactive table.\"\n",
              "            style=\"display:none;\">\n",
              "\n",
              "  <svg xmlns=\"http://www.w3.org/2000/svg\" height=\"24px\" viewBox=\"0 -960 960 960\">\n",
              "    <path d=\"M120-120v-720h720v720H120Zm60-500h600v-160H180v160Zm220 220h160v-160H400v160Zm0 220h160v-160H400v160ZM180-400h160v-160H180v160Zm440 0h160v-160H620v160ZM180-180h160v-160H180v160Zm440 0h160v-160H620v160Z\"/>\n",
              "  </svg>\n",
              "    </button>\n",
              "\n",
              "  <style>\n",
              "    .colab-df-container {\n",
              "      display:flex;\n",
              "      gap: 12px;\n",
              "    }\n",
              "\n",
              "    .colab-df-convert {\n",
              "      background-color: #E8F0FE;\n",
              "      border: none;\n",
              "      border-radius: 50%;\n",
              "      cursor: pointer;\n",
              "      display: none;\n",
              "      fill: #1967D2;\n",
              "      height: 32px;\n",
              "      padding: 0 0 0 0;\n",
              "      width: 32px;\n",
              "    }\n",
              "\n",
              "    .colab-df-convert:hover {\n",
              "      background-color: #E2EBFA;\n",
              "      box-shadow: 0px 1px 2px rgba(60, 64, 67, 0.3), 0px 1px 3px 1px rgba(60, 64, 67, 0.15);\n",
              "      fill: #174EA6;\n",
              "    }\n",
              "\n",
              "    .colab-df-buttons div {\n",
              "      margin-bottom: 4px;\n",
              "    }\n",
              "\n",
              "    [theme=dark] .colab-df-convert {\n",
              "      background-color: #3B4455;\n",
              "      fill: #D2E3FC;\n",
              "    }\n",
              "\n",
              "    [theme=dark] .colab-df-convert:hover {\n",
              "      background-color: #434B5C;\n",
              "      box-shadow: 0px 1px 3px 1px rgba(0, 0, 0, 0.15);\n",
              "      filter: drop-shadow(0px 1px 2px rgba(0, 0, 0, 0.3));\n",
              "      fill: #FFFFFF;\n",
              "    }\n",
              "  </style>\n",
              "\n",
              "    <script>\n",
              "      const buttonEl =\n",
              "        document.querySelector('#df-b22fa285-b047-4e1a-8d5f-9f0cd536e4b1 button.colab-df-convert');\n",
              "      buttonEl.style.display =\n",
              "        google.colab.kernel.accessAllowed ? 'block' : 'none';\n",
              "\n",
              "      async function convertToInteractive(key) {\n",
              "        const element = document.querySelector('#df-b22fa285-b047-4e1a-8d5f-9f0cd536e4b1');\n",
              "        const dataTable =\n",
              "          await google.colab.kernel.invokeFunction('convertToInteractive',\n",
              "                                                    [key], {});\n",
              "        if (!dataTable) return;\n",
              "\n",
              "        const docLinkHtml = 'Like what you see? Visit the ' +\n",
              "          '<a target=\"_blank\" href=https://colab.research.google.com/notebooks/data_table.ipynb>data table notebook</a>'\n",
              "          + ' to learn more about interactive tables.';\n",
              "        element.innerHTML = '';\n",
              "        dataTable['output_type'] = 'display_data';\n",
              "        await google.colab.output.renderOutput(dataTable, element);\n",
              "        const docLink = document.createElement('div');\n",
              "        docLink.innerHTML = docLinkHtml;\n",
              "        element.appendChild(docLink);\n",
              "      }\n",
              "    </script>\n",
              "  </div>\n",
              "\n",
              "\n",
              "<div id=\"df-9a76c456-5938-4184-8024-efe006b25155\">\n",
              "  <button class=\"colab-df-quickchart\" onclick=\"quickchart('df-9a76c456-5938-4184-8024-efe006b25155')\"\n",
              "            title=\"Suggest charts\"\n",
              "            style=\"display:none;\">\n",
              "\n",
              "<svg xmlns=\"http://www.w3.org/2000/svg\" height=\"24px\"viewBox=\"0 0 24 24\"\n",
              "     width=\"24px\">\n",
              "    <g>\n",
              "        <path d=\"M19 3H5c-1.1 0-2 .9-2 2v14c0 1.1.9 2 2 2h14c1.1 0 2-.9 2-2V5c0-1.1-.9-2-2-2zM9 17H7v-7h2v7zm4 0h-2V7h2v10zm4 0h-2v-4h2v4z\"/>\n",
              "    </g>\n",
              "</svg>\n",
              "  </button>\n",
              "\n",
              "<style>\n",
              "  .colab-df-quickchart {\n",
              "      --bg-color: #E8F0FE;\n",
              "      --fill-color: #1967D2;\n",
              "      --hover-bg-color: #E2EBFA;\n",
              "      --hover-fill-color: #174EA6;\n",
              "      --disabled-fill-color: #AAA;\n",
              "      --disabled-bg-color: #DDD;\n",
              "  }\n",
              "\n",
              "  [theme=dark] .colab-df-quickchart {\n",
              "      --bg-color: #3B4455;\n",
              "      --fill-color: #D2E3FC;\n",
              "      --hover-bg-color: #434B5C;\n",
              "      --hover-fill-color: #FFFFFF;\n",
              "      --disabled-bg-color: #3B4455;\n",
              "      --disabled-fill-color: #666;\n",
              "  }\n",
              "\n",
              "  .colab-df-quickchart {\n",
              "    background-color: var(--bg-color);\n",
              "    border: none;\n",
              "    border-radius: 50%;\n",
              "    cursor: pointer;\n",
              "    display: none;\n",
              "    fill: var(--fill-color);\n",
              "    height: 32px;\n",
              "    padding: 0;\n",
              "    width: 32px;\n",
              "  }\n",
              "\n",
              "  .colab-df-quickchart:hover {\n",
              "    background-color: var(--hover-bg-color);\n",
              "    box-shadow: 0 1px 2px rgba(60, 64, 67, 0.3), 0 1px 3px 1px rgba(60, 64, 67, 0.15);\n",
              "    fill: var(--button-hover-fill-color);\n",
              "  }\n",
              "\n",
              "  .colab-df-quickchart-complete:disabled,\n",
              "  .colab-df-quickchart-complete:disabled:hover {\n",
              "    background-color: var(--disabled-bg-color);\n",
              "    fill: var(--disabled-fill-color);\n",
              "    box-shadow: none;\n",
              "  }\n",
              "\n",
              "  .colab-df-spinner {\n",
              "    border: 2px solid var(--fill-color);\n",
              "    border-color: transparent;\n",
              "    border-bottom-color: var(--fill-color);\n",
              "    animation:\n",
              "      spin 1s steps(1) infinite;\n",
              "  }\n",
              "\n",
              "  @keyframes spin {\n",
              "    0% {\n",
              "      border-color: transparent;\n",
              "      border-bottom-color: var(--fill-color);\n",
              "      border-left-color: var(--fill-color);\n",
              "    }\n",
              "    20% {\n",
              "      border-color: transparent;\n",
              "      border-left-color: var(--fill-color);\n",
              "      border-top-color: var(--fill-color);\n",
              "    }\n",
              "    30% {\n",
              "      border-color: transparent;\n",
              "      border-left-color: var(--fill-color);\n",
              "      border-top-color: var(--fill-color);\n",
              "      border-right-color: var(--fill-color);\n",
              "    }\n",
              "    40% {\n",
              "      border-color: transparent;\n",
              "      border-right-color: var(--fill-color);\n",
              "      border-top-color: var(--fill-color);\n",
              "    }\n",
              "    60% {\n",
              "      border-color: transparent;\n",
              "      border-right-color: var(--fill-color);\n",
              "    }\n",
              "    80% {\n",
              "      border-color: transparent;\n",
              "      border-right-color: var(--fill-color);\n",
              "      border-bottom-color: var(--fill-color);\n",
              "    }\n",
              "    90% {\n",
              "      border-color: transparent;\n",
              "      border-bottom-color: var(--fill-color);\n",
              "    }\n",
              "  }\n",
              "</style>\n",
              "\n",
              "  <script>\n",
              "    async function quickchart(key) {\n",
              "      const quickchartButtonEl =\n",
              "        document.querySelector('#' + key + ' button');\n",
              "      quickchartButtonEl.disabled = true;  // To prevent multiple clicks.\n",
              "      quickchartButtonEl.classList.add('colab-df-spinner');\n",
              "      try {\n",
              "        const charts = await google.colab.kernel.invokeFunction(\n",
              "            'suggestCharts', [key], {});\n",
              "      } catch (error) {\n",
              "        console.error('Error during call to suggestCharts:', error);\n",
              "      }\n",
              "      quickchartButtonEl.classList.remove('colab-df-spinner');\n",
              "      quickchartButtonEl.classList.add('colab-df-quickchart-complete');\n",
              "    }\n",
              "    (() => {\n",
              "      let quickchartButtonEl =\n",
              "        document.querySelector('#df-9a76c456-5938-4184-8024-efe006b25155 button');\n",
              "      quickchartButtonEl.style.display =\n",
              "        google.colab.kernel.accessAllowed ? 'block' : 'none';\n",
              "    })();\n",
              "  </script>\n",
              "</div>\n",
              "\n",
              "    </div>\n",
              "  </div>\n"
            ],
            "application/vnd.google.colaboratory.intrinsic+json": {
              "type": "dataframe",
              "variable_name": "dataset",
              "summary": "{\n  \"name\": \"dataset\",\n  \"rows\": 204,\n  \"fields\": [\n    {\n      \"column\": \"DELIVERY_WARD_LATITUDE\",\n      \"properties\": {\n        \"dtype\": \"number\",\n        \"std\": 5.013068635313032,\n        \"min\": 9.946489672,\n        \"max\": 22.47752638,\n        \"num_unique_values\": 204,\n        \"samples\": [\n          10.7571056,\n          10.73470666,\n          20.98962242\n        ],\n        \"semantic_type\": \"\",\n        \"description\": \"\"\n      }\n    },\n    {\n      \"column\": \"DELIVERY_WARD_LONGITUDE\",\n      \"properties\": {\n        \"dtype\": \"number\",\n        \"std\": 0.6164348958666734,\n        \"min\": 103.9888557,\n        \"max\": 109.4739104,\n        \"num_unique_values\": 199,\n        \"samples\": [\n          108.1793405,\n          106.7915763,\n          105.963511\n        ],\n        \"semantic_type\": \"\",\n        \"description\": \"\"\n      }\n    },\n    {\n      \"column\": \"PROVINCE\",\n      \"properties\": {\n        \"dtype\": \"category\",\n        \"num_unique_values\": 17,\n        \"samples\": [\n          \"Tr\\u00e0 Vinh\",\n          \"V\\u0129nh Long\",\n          \"Kh\\u00e1nh H\\u00f2a\"\n        ],\n        \"semantic_type\": \"\",\n        \"description\": \"\"\n      }\n    },\n    {\n      \"column\": \"BRANCH_CODE\",\n      \"properties\": {\n        \"dtype\": \"string\",\n        \"num_unique_values\": 203,\n        \"samples\": [\n          \"ZGK\",\n          \"CHT\",\n          \"TXY\"\n        ],\n        \"semantic_type\": \"\",\n        \"description\": \"\"\n      }\n    },\n    {\n      \"column\": \"AREA\",\n      \"properties\": {\n        \"dtype\": \"category\",\n        \"num_unique_values\": 2,\n        \"samples\": [\n          \"MB\",\n          \"MN\"\n        ],\n        \"semantic_type\": \"\",\n        \"description\": \"\"\n      }\n    },\n    {\n      \"column\": \"REGION\",\n      \"properties\": {\n        \"dtype\": \"category\",\n        \"num_unique_values\": 7,\n        \"samples\": [\n          \"R07\",\n          \"R06\"\n        ],\n        \"semantic_type\": \"\",\n        \"description\": \"\"\n      }\n    },\n    {\n      \"column\": \"DEMAND\",\n      \"properties\": {\n        \"dtype\": \"number\",\n        \"std\": 28602,\n        \"min\": 79,\n        \"max\": 357823,\n        \"num_unique_values\": 197,\n        \"samples\": [\n          993,\n          1154\n        ],\n        \"semantic_type\": \"\",\n        \"description\": \"\"\n      }\n    }\n  ]\n}"
            }
          },
          "metadata": {},
          "execution_count": 1
        }
      ],
      "source": [
        "import pandas as pd\n",
        "dataset = pd.read_excel(\"/content/sample_data/DemandBranchFake.xlsx\", sheet_name=\"DemandBranchFake\",\n",
        "                        names = ['DELIVERY_WARD_LATITUDE', 'DELIVERY_WARD_LONGITUDE', 'PROVINCE',\n",
        "                                   'BRANCH_CODE', 'AREA', 'REGION', 'DEMAND'],\n",
        "                        header=0)\n",
        "print(dataset.shape)\n",
        "dataset.head()"
      ]
    },
    {
      "cell_type": "markdown",
      "source": [
        "# Khởi tạo google map"
      ],
      "metadata": {
        "id": "8iuOKwm6mXdj"
      }
    },
    {
      "cell_type": "code",
      "source": [
        "! pip install gmplot"
      ],
      "metadata": {
        "colab": {
          "base_uri": "https://localhost:8080/"
        },
        "id": "wvuTmmeRmebL",
        "outputId": "f44c7d00-dca2-4f06-9f42-bc019c0c7c20"
      },
      "execution_count": 2,
      "outputs": [
        {
          "output_type": "stream",
          "name": "stdout",
          "text": [
            "Collecting gmplot\n",
            "  Downloading gmplot-1.4.1-py3-none-any.whl (164 kB)\n",
            "\u001b[2K     \u001b[90m━━━━━━━━━━━━━━━━━━━━━━━━━━━━━━━━━━━━━━━━\u001b[0m \u001b[32m164.7/164.7 kB\u001b[0m \u001b[31m4.3 MB/s\u001b[0m eta \u001b[36m0:00:00\u001b[0m\n",
            "\u001b[?25hRequirement already satisfied: requests in /usr/local/lib/python3.10/dist-packages (from gmplot) (2.31.0)\n",
            "Requirement already satisfied: charset-normalizer<4,>=2 in /usr/local/lib/python3.10/dist-packages (from requests->gmplot) (3.3.2)\n",
            "Requirement already satisfied: idna<4,>=2.5 in /usr/local/lib/python3.10/dist-packages (from requests->gmplot) (3.6)\n",
            "Requirement already satisfied: urllib3<3,>=1.21.1 in /usr/local/lib/python3.10/dist-packages (from requests->gmplot) (2.0.7)\n",
            "Requirement already satisfied: certifi>=2017.4.17 in /usr/local/lib/python3.10/dist-packages (from requests->gmplot) (2024.2.2)\n",
            "Installing collected packages: gmplot\n",
            "Successfully installed gmplot-1.4.1\n"
          ]
        }
      ]
    },
    {
      "cell_type": "code",
      "source": [
        "import gmplot\n",
        "\n",
        "lat = 20.97\n",
        "long = 105.8\n",
        "zoom = 12\n",
        "\n",
        "# Khởi tạo một googleMapPlotter\n",
        "gmap1 = gmplot.GoogleMapPlotter(lat, long, zoom)\n",
        "# Lưu google map vào một html file\n",
        "gmap1.draw('initialGmplot.html')\n",
        "print('da chay Initail Gmplot')"
      ],
      "metadata": {
        "colab": {
          "base_uri": "https://localhost:8080/"
        },
        "id": "QqxmZUa_mWmz",
        "outputId": "8cab911f-eff1-4290-de81-af0dd11bcf33"
      },
      "execution_count": 3,
      "outputs": [
        {
          "output_type": "stream",
          "name": "stdout",
          "text": [
            "da chay Initail Gmplot\n"
          ]
        }
      ]
    },
    {
      "cell_type": "code",
      "source": [
        "import gmplot\n",
        "\n",
        "lat = 20.97\n",
        "long = 105.8\n",
        "zoom = 12\n",
        "\n",
        "# Khởi tạo một googleMapPlotter\n",
        "gmap1 = gmplot.GoogleMapPlotter(lat, long, zoom)\n",
        "# Thêm key cho API bằng cách thay thế key vào `your_key`\n",
        "gmap1.apikey = \"your_key\"\n",
        "# Lưu google map vào một html file\n",
        "gmap1.draw('initialGmplot.html')\n",
        "print('da den day')"
      ],
      "metadata": {
        "colab": {
          "base_uri": "https://localhost:8080/"
        },
        "id": "03Gvbis5q0Qn",
        "outputId": "741170f1-6bb8-4842-86fe-1fa24cf944f7"
      },
      "execution_count": 4,
      "outputs": [
        {
          "output_type": "stream",
          "name": "stdout",
          "text": [
            "da den day\n"
          ]
        }
      ]
    },
    {
      "cell_type": "code",
      "source": [
        "import folium\n",
        "\n",
        "lat = 20.97\n",
        "long = 105.8\n",
        "zoom = 12\n",
        "\n",
        "gmap2 = folium.Map(location=(lat, long), zoom_start=zoom)\n",
        "gmap2.save('initialFolium.html')\n",
        "print('da den buoc nay')"
      ],
      "metadata": {
        "colab": {
          "base_uri": "https://localhost:8080/"
        },
        "id": "DNV4-L8KrC9G",
        "outputId": "2f67164b-9487-4124-fe21-96b2a68ba74b"
      },
      "execution_count": 5,
      "outputs": [
        {
          "output_type": "stream",
          "name": "stdout",
          "text": [
            "da den buoc nay\n"
          ]
        }
      ]
    },
    {
      "cell_type": "markdown",
      "source": [
        "# Đánh dấu điểm trên google map"
      ],
      "metadata": {
        "id": "BuK_v708v4uY"
      }
    },
    {
      "cell_type": "code",
      "source": [
        "import folium\n",
        "\n",
        "lat = 21.0143\n",
        "long = 105.7697\n",
        "zoom = 12\n",
        "name = \"Nhà trọ của NHI-Thỏ\"\n",
        "color=\"red\"\n",
        "\n",
        "# Khởi tạo base map\n",
        "gmap2 = folium.Map(location=(lat, long), zoom_start=zoom)\n",
        "# Thêm một marker vào base map\n",
        "folium.Marker(location=(lat, long), popup=name).add_to(gmap2)\n",
        "gmap2.save(\"foliumMarker.html\")"
      ],
      "metadata": {
        "id": "5HwmFpVTv4ax"
      },
      "execution_count": 6,
      "outputs": []
    },
    {
      "cell_type": "code",
      "source": [
        "from math import cos, asin, sqrt\n",
        "import numpy as np\n",
        "\n",
        "def distance(lat1, lon1, lat2, lon2):\n",
        "    R = 6371 # Bán kính trái đất (km)\n",
        "    p = np.pi/180 # giá trị pi/180\n",
        "    a = 0.5 - cos((lat2 - lat1) * p)/2 + cos(lat1 * p) * cos(lat2 * p) * (1 - cos((lon2 - lon1) * p)) / 2\n",
        "    return 2*R*asin(sqrt(a))"
      ],
      "metadata": {
        "id": "RP-wHBpeCZBI"
      },
      "execution_count": 7,
      "outputs": []
    },
    {
      "cell_type": "code",
      "source": [
        "# Tọa độ Vĩnh Long\n",
        "lat1 = 10.250815\n",
        "lon1 = 106.002399\n",
        "# Tọa độ thành phố Hồ Chí Minh\n",
        "lat2 = 10.678836\n",
        "lon2 = 106.601911\n",
        "# Tính khoảng cách\n",
        "\n",
        "distance(lat1, lon1, lat2, lon2)"
      ],
      "metadata": {
        "colab": {
          "base_uri": "https://localhost:8080/"
        },
        "id": "TnFoUjvcCblO",
        "outputId": "e62aff00-7221-465a-9645-dd5c0b93d1d2"
      },
      "execution_count": 8,
      "outputs": [
        {
          "output_type": "execute_result",
          "data": {
            "text/plain": [
              "81.00896435483854"
            ]
          },
          "metadata": {},
          "execution_count": 8
        }
      ]
    },
    {
      "cell_type": "code",
      "source": [
        "from folium.plugins import HeatMap\n",
        "\n",
        "lat = 20.97\n",
        "long = 105.8\n",
        "zoom = 12\n",
        "gmap2 = folium.Map(location=(lat, long), zoom_start=zoom)\n",
        "maximum = max(dataset['DEMAND'])\n",
        "\n",
        "def _addHeatMap(dataset, gmap):\n",
        "    data_loc_val = list(zip(dataset['DELIVERY_WARD_LATITUDE'], dataset['DELIVERY_WARD_LONGITUDE'], dataset['DEMAND']))\n",
        "    heatMap = HeatMap(data=data_loc_val,\n",
        "            min_opacity = 0.6,\n",
        "            blur = 20,\n",
        "            max_val = maximum,\n",
        "            radius = 15,\n",
        "            overlay = True)\n",
        "    heatMap.add_to(gmap)\n",
        "\n",
        "_addHeatMap(dataset, gmap2)\n",
        "gmap2.save(\"foliumHeatMap.html\")"
      ],
      "metadata": {
        "colab": {
          "base_uri": "https://localhost:8080/"
        },
        "id": "dp1lcfQCClJY",
        "outputId": "bfd6c8f2-2335-4324-b025-08e061caaca7"
      },
      "execution_count": 9,
      "outputs": [
        {
          "output_type": "stream",
          "name": "stderr",
          "text": [
            "<ipython-input-9-21199630526b>:11: UserWarning: The `max_val` parameter is no longer necessary. The largest intensity is calculated automatically.\n",
            "  heatMap = HeatMap(data=data_loc_val,\n"
          ]
        }
      ]
    },
    {
      "cell_type": "code",
      "source": [
        "from folium.plugins import HeatMap\n",
        "\n",
        "lat = 20.97\n",
        "long = 105.8\n",
        "zoom = 12\n",
        "gmap2 = folium.Map(location=(lat, long), zoom_start=zoom)\n",
        "maximum = max(dataset['DEMAND'])\n",
        "\n",
        "def _addHeatMap(dataset, gmap):\n",
        "    data_loc_val = list(zip(dataset['DELIVERY_WARD_LATITUDE'], dataset['DELIVERY_WARD_LONGITUDE'], dataset['DEMAND']))\n",
        "    heatMap = HeatMap(data=data_loc_val,\n",
        "            min_opacity = 0.6,\n",
        "            blur = 20,\n",
        "            max_val = maximum,\n",
        "            radius = 15,\n",
        "            overlay = True)\n",
        "    heatMap.add_to(gmap)\n",
        "\n",
        "_addHeatMap(dataset, gmap2)\n",
        "gmap2.add_child(folium.ClickForMarker(popup='Chi nhánh tiềm năng'))\n",
        "\n",
        "gmap2.save(\"foliumHeatMapClickForMarker.html\")"
      ],
      "metadata": {
        "colab": {
          "base_uri": "https://localhost:8080/"
        },
        "id": "sDjpbV1vDumC",
        "outputId": "b362b256-2e41-4493-f9e6-8fad1ff9afe1"
      },
      "execution_count": 10,
      "outputs": [
        {
          "output_type": "stream",
          "name": "stderr",
          "text": [
            "<ipython-input-10-d6118cd039d8>:11: UserWarning: The `max_val` parameter is no longer necessary. The largest intensity is calculated automatically.\n",
            "  heatMap = HeatMap(data=data_loc_val,\n"
          ]
        }
      ]
    },
    {
      "cell_type": "code",
      "source": [
        "from folium.plugins import HeatMap\n",
        "from folium.features import DivIcon\n",
        "\n",
        "lat = 20.97\n",
        "long = 105.8\n",
        "zoom = 12\n",
        "text = \"Hà Nội\"\n",
        "gmap2 = folium.Map(location=(lat, long), zoom_start=zoom)\n",
        "maximum = max(dataset['DEMAND'])\n",
        "\n",
        "def _addHeatMap(dataset, gmap):\n",
        "    data_loc_val = list(zip(dataset['DELIVERY_WARD_LATITUDE'], dataset['DELIVERY_WARD_LONGITUDE'], dataset['DEMAND']))\n",
        "    heatMap = HeatMap(data=data_loc_val,\n",
        "            min_opacity = 0.6,\n",
        "            blur = 20,\n",
        "            max_val = maximum,\n",
        "            radius = 15,\n",
        "            overlay = True)\n",
        "    heatMap.add_to(gmap)\n",
        "\n",
        "_addHeatMap(dataset, gmap2)\n",
        "gmap2.add_child(folium.ClickForMarker(popup='Chi nhánh tiềm năng'))\n",
        "# Thêm circle có bán kính 15000\n",
        "gmap2.add_child(folium.Circle([lat, long], radius = 15000, fill = True))\n",
        "# Thêm text chú thích cho circle\n",
        "gmap2.add_child(folium.Marker(\n",
        "    [lat, long],\n",
        "    icon=DivIcon(\n",
        "        icon_size=(150,36),\n",
        "        icon_anchor=(0,0),\n",
        "        html='<div style=\"font-size: 24pt\">%s</div>' % text,\n",
        "        )\n",
        "    ))\n",
        "\n",
        "gmap2.save(\"foliumHeatMapClickForMarker.html\")"
      ],
      "metadata": {
        "colab": {
          "base_uri": "https://localhost:8080/"
        },
        "id": "GTHXUzAhIqjd",
        "outputId": "05936130-d1b9-41f0-d222-b6b413f3f3a8"
      },
      "execution_count": 11,
      "outputs": [
        {
          "output_type": "stream",
          "name": "stderr",
          "text": [
            "<ipython-input-11-06100a2f8759>:13: UserWarning: The `max_val` parameter is no longer necessary. The largest intensity is calculated automatically.\n",
            "  heatMap = HeatMap(data=data_loc_val,\n"
          ]
        }
      ]
    },
    {
      "cell_type": "code",
      "source": [
        "from folium.plugins import HeatMap\n",
        "from folium.features import DivIcon\n",
        "\n",
        "lat = 20.97\n",
        "long = 105.8\n",
        "zoom = 12\n",
        "text = \"Hà Nội\"\n",
        "gmap2 = folium.Map(location=(lat, long), zoom_start=zoom)\n",
        "maximum = max(dataset['DEMAND'])\n",
        "\n",
        "def _addHeatMap(dataset, gmap):\n",
        "    data_loc_val = list(zip(dataset['DELIVERY_WARD_LATITUDE'], dataset['DELIVERY_WARD_LONGITUDE'], dataset['DEMAND']))\n",
        "    heatMap = HeatMap(data=data_loc_val,\n",
        "            min_opacity = 0.6,\n",
        "            blur = 20,\n",
        "            # Thay đổi màu sắc bằng gradient\n",
        "            gradient = {0.2: 'blue', 0.4: 'lime', 0.6: 'orange', 1: 'red'},\n",
        "            max_val = maximum,\n",
        "            radius = 15,\n",
        "            overlay = True)\n",
        "    heatMap.add_to(gmap)\n",
        "\n",
        "_addHeatMap(dataset, gmap2)\n",
        "gmap2.add_child(folium.ClickForMarker(popup='Chi nhánh tiềm năng'))\n",
        "# Thêm circle có bán kính 15000\n",
        "gmap2.add_child(folium.Circle([lat, long], radius = 15000, fill = True))\n",
        "# Thêm text chú thích cho circle\n",
        "gmap2.add_child(folium.Marker(\n",
        "    [lat, long],\n",
        "    icon=DivIcon(\n",
        "        icon_size=(150,36),\n",
        "        icon_anchor=(0,0),\n",
        "        html='<div style=\"font-size: 24pt\">%s</div>' % text,\n",
        "        )\n",
        "    ))\n",
        "\n",
        "gmap2.save(\"foliumHeatMapClickForMarker.html\")"
      ],
      "metadata": {
        "colab": {
          "base_uri": "https://localhost:8080/"
        },
        "id": "QyA6J-AovNKX",
        "outputId": "0c762514-d4aa-493b-b52d-e57435d6dd52"
      },
      "execution_count": 12,
      "outputs": [
        {
          "output_type": "stream",
          "name": "stderr",
          "text": [
            "<ipython-input-12-d4467f0e48c7>:13: UserWarning: The `max_val` parameter is no longer necessary. The largest intensity is calculated automatically.\n",
            "  heatMap = HeatMap(data=data_loc_val,\n"
          ]
        }
      ]
    },
    {
      "cell_type": "markdown",
      "source": [
        "# **Bản đồ heatmap theo thời gian**"
      ],
      "metadata": {
        "id": "tU6uRs5u1h7E"
      }
    },
    {
      "cell_type": "code",
      "source": [
        "!ls -l \"E:/Dulieu_UAV_cho_Deep_learning/Tu_hoc_deep_learning/Graphic_in_GoogleMap/nyc-taxi-trip-duration/test\""
      ],
      "metadata": {
        "colab": {
          "base_uri": "https://localhost:8080/"
        },
        "id": "Y8ztKPa0BPI6",
        "outputId": "9ea273c9-81d0-44c6-8bbe-15e0f2e65810"
      },
      "execution_count": 8,
      "outputs": [
        {
          "output_type": "stream",
          "name": "stdout",
          "text": [
            "ls: cannot access 'E:/Dulieu_UAV_cho_Deep_learning/Tu_hoc_deep_learning/Graphic_in_GoogleMap/nyc-taxi-trip-duration/test': No such file or directory\n"
          ]
        }
      ]
    },
    {
      "cell_type": "code",
      "source": [
        "!ls 'C:/Users/phamt/OneDrive/Desktop/nyc-taxi-trip-duration'"
      ],
      "metadata": {
        "colab": {
          "base_uri": "https://localhost:8080/"
        },
        "id": "_eqBGGf9MFJH",
        "outputId": "271d188f-8497-4ef1-e0e9-1eff66371e3c"
      },
      "execution_count": 22,
      "outputs": [
        {
          "output_type": "stream",
          "name": "stdout",
          "text": [
            "ls: cannot access 'C:/Users/phamt/OneDrive/Desktop/nyc-taxi-trip-duration': No such file or directory\n"
          ]
        }
      ]
    },
    {
      "cell_type": "code",
      "source": [
        "import os\n",
        "import pandas as pd\n",
        "# filepath=\"D:/nyc-taxi-trip-duration/test/test.csv\"\n",
        "\n",
        "dataTaxiTrip = pd.read_csv('/content/sample_data/test.csv', header = 0)\n",
        "# dataTaxiTrip = pd.read_csv(filepath, index_col=None, usecols=None, dtype=None, skiprows=None, skipfooter=0, nrows=None)\n",
        "# \"D:\\nyc-taxi-trip-duration\\test\\test.csv\"\n",
        "print(dataTaxiTrip.shape)\n",
        "dataTaxiTrip.info()"
      ],
      "metadata": {
        "colab": {
          "base_uri": "https://localhost:8080/",
          "height": 373
        },
        "id": "kqTXSX2C1g0n",
        "outputId": "d2f2982c-3999-4d76-dc7d-49ae1afd0cd0"
      },
      "execution_count": 6,
      "outputs": [
        {
          "output_type": "error",
          "ename": "FileNotFoundError",
          "evalue": "[Errno 2] No such file or directory: 'D:/nyc-taxi-trip-duration/test/test.csv'",
          "traceback": [
            "\u001b[0;31m---------------------------------------------------------------------------\u001b[0m",
            "\u001b[0;31mFileNotFoundError\u001b[0m                         Traceback (most recent call last)",
            "\u001b[0;32m<ipython-input-6-59452eda7d36>\u001b[0m in \u001b[0;36m<cell line: 6>\u001b[0;34m()\u001b[0m\n\u001b[1;32m      4\u001b[0m \u001b[0;34m\u001b[0m\u001b[0m\n\u001b[1;32m      5\u001b[0m \u001b[0;31m# dataTaxiTrip = pd.read_csv('/content/sample_data/test.csv', header = 0)\u001b[0m\u001b[0;34m\u001b[0m\u001b[0;34m\u001b[0m\u001b[0m\n\u001b[0;32m----> 6\u001b[0;31m \u001b[0mdataTaxiTrip\u001b[0m \u001b[0;34m=\u001b[0m \u001b[0mpd\u001b[0m\u001b[0;34m.\u001b[0m\u001b[0mread_csv\u001b[0m\u001b[0;34m(\u001b[0m\u001b[0mfilepath\u001b[0m\u001b[0;34m,\u001b[0m \u001b[0mindex_col\u001b[0m\u001b[0;34m=\u001b[0m\u001b[0;32mNone\u001b[0m\u001b[0;34m,\u001b[0m \u001b[0musecols\u001b[0m\u001b[0;34m=\u001b[0m\u001b[0;32mNone\u001b[0m\u001b[0;34m,\u001b[0m \u001b[0mdtype\u001b[0m\u001b[0;34m=\u001b[0m\u001b[0;32mNone\u001b[0m\u001b[0;34m,\u001b[0m \u001b[0mskiprows\u001b[0m\u001b[0;34m=\u001b[0m\u001b[0;32mNone\u001b[0m\u001b[0;34m,\u001b[0m \u001b[0mskipfooter\u001b[0m\u001b[0;34m=\u001b[0m\u001b[0;36m0\u001b[0m\u001b[0;34m,\u001b[0m \u001b[0mnrows\u001b[0m\u001b[0;34m=\u001b[0m\u001b[0;32mNone\u001b[0m\u001b[0;34m)\u001b[0m\u001b[0;34m\u001b[0m\u001b[0;34m\u001b[0m\u001b[0m\n\u001b[0m\u001b[1;32m      7\u001b[0m \u001b[0;31m# \"D:\\nyc-taxi-trip-duration\\test\\test.csv\"\u001b[0m\u001b[0;34m\u001b[0m\u001b[0;34m\u001b[0m\u001b[0m\n\u001b[1;32m      8\u001b[0m \u001b[0mprint\u001b[0m\u001b[0;34m(\u001b[0m\u001b[0mdataTaxiTrip\u001b[0m\u001b[0;34m.\u001b[0m\u001b[0mshape\u001b[0m\u001b[0;34m)\u001b[0m\u001b[0;34m\u001b[0m\u001b[0;34m\u001b[0m\u001b[0m\n",
            "\u001b[0;32m/usr/local/lib/python3.10/dist-packages/pandas/util/_decorators.py\u001b[0m in \u001b[0;36mwrapper\u001b[0;34m(*args, **kwargs)\u001b[0m\n\u001b[1;32m    209\u001b[0m                 \u001b[0;32melse\u001b[0m\u001b[0;34m:\u001b[0m\u001b[0;34m\u001b[0m\u001b[0;34m\u001b[0m\u001b[0m\n\u001b[1;32m    210\u001b[0m                     \u001b[0mkwargs\u001b[0m\u001b[0;34m[\u001b[0m\u001b[0mnew_arg_name\u001b[0m\u001b[0;34m]\u001b[0m \u001b[0;34m=\u001b[0m \u001b[0mnew_arg_value\u001b[0m\u001b[0;34m\u001b[0m\u001b[0;34m\u001b[0m\u001b[0m\n\u001b[0;32m--> 211\u001b[0;31m             \u001b[0;32mreturn\u001b[0m \u001b[0mfunc\u001b[0m\u001b[0;34m(\u001b[0m\u001b[0;34m*\u001b[0m\u001b[0margs\u001b[0m\u001b[0;34m,\u001b[0m \u001b[0;34m**\u001b[0m\u001b[0mkwargs\u001b[0m\u001b[0;34m)\u001b[0m\u001b[0;34m\u001b[0m\u001b[0;34m\u001b[0m\u001b[0m\n\u001b[0m\u001b[1;32m    212\u001b[0m \u001b[0;34m\u001b[0m\u001b[0m\n\u001b[1;32m    213\u001b[0m         \u001b[0;32mreturn\u001b[0m \u001b[0mcast\u001b[0m\u001b[0;34m(\u001b[0m\u001b[0mF\u001b[0m\u001b[0;34m,\u001b[0m \u001b[0mwrapper\u001b[0m\u001b[0;34m)\u001b[0m\u001b[0;34m\u001b[0m\u001b[0;34m\u001b[0m\u001b[0m\n",
            "\u001b[0;32m/usr/local/lib/python3.10/dist-packages/pandas/util/_decorators.py\u001b[0m in \u001b[0;36mwrapper\u001b[0;34m(*args, **kwargs)\u001b[0m\n\u001b[1;32m    329\u001b[0m                     \u001b[0mstacklevel\u001b[0m\u001b[0;34m=\u001b[0m\u001b[0mfind_stack_level\u001b[0m\u001b[0;34m(\u001b[0m\u001b[0;34m)\u001b[0m\u001b[0;34m,\u001b[0m\u001b[0;34m\u001b[0m\u001b[0;34m\u001b[0m\u001b[0m\n\u001b[1;32m    330\u001b[0m                 )\n\u001b[0;32m--> 331\u001b[0;31m             \u001b[0;32mreturn\u001b[0m \u001b[0mfunc\u001b[0m\u001b[0;34m(\u001b[0m\u001b[0;34m*\u001b[0m\u001b[0margs\u001b[0m\u001b[0;34m,\u001b[0m \u001b[0;34m**\u001b[0m\u001b[0mkwargs\u001b[0m\u001b[0;34m)\u001b[0m\u001b[0;34m\u001b[0m\u001b[0;34m\u001b[0m\u001b[0m\n\u001b[0m\u001b[1;32m    332\u001b[0m \u001b[0;34m\u001b[0m\u001b[0m\n\u001b[1;32m    333\u001b[0m         \u001b[0;31m# error: \"Callable[[VarArg(Any), KwArg(Any)], Any]\" has no\u001b[0m\u001b[0;34m\u001b[0m\u001b[0;34m\u001b[0m\u001b[0m\n",
            "\u001b[0;32m/usr/local/lib/python3.10/dist-packages/pandas/io/parsers/readers.py\u001b[0m in \u001b[0;36mread_csv\u001b[0;34m(filepath_or_buffer, sep, delimiter, header, names, index_col, usecols, squeeze, prefix, mangle_dupe_cols, dtype, engine, converters, true_values, false_values, skipinitialspace, skiprows, skipfooter, nrows, na_values, keep_default_na, na_filter, verbose, skip_blank_lines, parse_dates, infer_datetime_format, keep_date_col, date_parser, dayfirst, cache_dates, iterator, chunksize, compression, thousands, decimal, lineterminator, quotechar, quoting, doublequote, escapechar, comment, encoding, encoding_errors, dialect, error_bad_lines, warn_bad_lines, on_bad_lines, delim_whitespace, low_memory, memory_map, float_precision, storage_options)\u001b[0m\n\u001b[1;32m    948\u001b[0m     \u001b[0mkwds\u001b[0m\u001b[0;34m.\u001b[0m\u001b[0mupdate\u001b[0m\u001b[0;34m(\u001b[0m\u001b[0mkwds_defaults\u001b[0m\u001b[0;34m)\u001b[0m\u001b[0;34m\u001b[0m\u001b[0;34m\u001b[0m\u001b[0m\n\u001b[1;32m    949\u001b[0m \u001b[0;34m\u001b[0m\u001b[0m\n\u001b[0;32m--> 950\u001b[0;31m     \u001b[0;32mreturn\u001b[0m \u001b[0m_read\u001b[0m\u001b[0;34m(\u001b[0m\u001b[0mfilepath_or_buffer\u001b[0m\u001b[0;34m,\u001b[0m \u001b[0mkwds\u001b[0m\u001b[0;34m)\u001b[0m\u001b[0;34m\u001b[0m\u001b[0;34m\u001b[0m\u001b[0m\n\u001b[0m\u001b[1;32m    951\u001b[0m \u001b[0;34m\u001b[0m\u001b[0m\n\u001b[1;32m    952\u001b[0m \u001b[0;34m\u001b[0m\u001b[0m\n",
            "\u001b[0;32m/usr/local/lib/python3.10/dist-packages/pandas/io/parsers/readers.py\u001b[0m in \u001b[0;36m_read\u001b[0;34m(filepath_or_buffer, kwds)\u001b[0m\n\u001b[1;32m    603\u001b[0m \u001b[0;34m\u001b[0m\u001b[0m\n\u001b[1;32m    604\u001b[0m     \u001b[0;31m# Create the parser.\u001b[0m\u001b[0;34m\u001b[0m\u001b[0;34m\u001b[0m\u001b[0m\n\u001b[0;32m--> 605\u001b[0;31m     \u001b[0mparser\u001b[0m \u001b[0;34m=\u001b[0m \u001b[0mTextFileReader\u001b[0m\u001b[0;34m(\u001b[0m\u001b[0mfilepath_or_buffer\u001b[0m\u001b[0;34m,\u001b[0m \u001b[0;34m**\u001b[0m\u001b[0mkwds\u001b[0m\u001b[0;34m)\u001b[0m\u001b[0;34m\u001b[0m\u001b[0;34m\u001b[0m\u001b[0m\n\u001b[0m\u001b[1;32m    606\u001b[0m \u001b[0;34m\u001b[0m\u001b[0m\n\u001b[1;32m    607\u001b[0m     \u001b[0;32mif\u001b[0m \u001b[0mchunksize\u001b[0m \u001b[0;32mor\u001b[0m \u001b[0miterator\u001b[0m\u001b[0;34m:\u001b[0m\u001b[0;34m\u001b[0m\u001b[0;34m\u001b[0m\u001b[0m\n",
            "\u001b[0;32m/usr/local/lib/python3.10/dist-packages/pandas/io/parsers/readers.py\u001b[0m in \u001b[0;36m__init__\u001b[0;34m(self, f, engine, **kwds)\u001b[0m\n\u001b[1;32m   1440\u001b[0m \u001b[0;34m\u001b[0m\u001b[0m\n\u001b[1;32m   1441\u001b[0m         \u001b[0mself\u001b[0m\u001b[0;34m.\u001b[0m\u001b[0mhandles\u001b[0m\u001b[0;34m:\u001b[0m \u001b[0mIOHandles\u001b[0m \u001b[0;34m|\u001b[0m \u001b[0;32mNone\u001b[0m \u001b[0;34m=\u001b[0m \u001b[0;32mNone\u001b[0m\u001b[0;34m\u001b[0m\u001b[0;34m\u001b[0m\u001b[0m\n\u001b[0;32m-> 1442\u001b[0;31m         \u001b[0mself\u001b[0m\u001b[0;34m.\u001b[0m\u001b[0m_engine\u001b[0m \u001b[0;34m=\u001b[0m \u001b[0mself\u001b[0m\u001b[0;34m.\u001b[0m\u001b[0m_make_engine\u001b[0m\u001b[0;34m(\u001b[0m\u001b[0mf\u001b[0m\u001b[0;34m,\u001b[0m \u001b[0mself\u001b[0m\u001b[0;34m.\u001b[0m\u001b[0mengine\u001b[0m\u001b[0;34m)\u001b[0m\u001b[0;34m\u001b[0m\u001b[0;34m\u001b[0m\u001b[0m\n\u001b[0m\u001b[1;32m   1443\u001b[0m \u001b[0;34m\u001b[0m\u001b[0m\n\u001b[1;32m   1444\u001b[0m     \u001b[0;32mdef\u001b[0m \u001b[0mclose\u001b[0m\u001b[0;34m(\u001b[0m\u001b[0mself\u001b[0m\u001b[0;34m)\u001b[0m \u001b[0;34m->\u001b[0m \u001b[0;32mNone\u001b[0m\u001b[0;34m:\u001b[0m\u001b[0;34m\u001b[0m\u001b[0;34m\u001b[0m\u001b[0m\n",
            "\u001b[0;32m/usr/local/lib/python3.10/dist-packages/pandas/io/parsers/readers.py\u001b[0m in \u001b[0;36m_make_engine\u001b[0;34m(self, f, engine)\u001b[0m\n\u001b[1;32m   1733\u001b[0m                 \u001b[0;32mif\u001b[0m \u001b[0;34m\"b\"\u001b[0m \u001b[0;32mnot\u001b[0m \u001b[0;32min\u001b[0m \u001b[0mmode\u001b[0m\u001b[0;34m:\u001b[0m\u001b[0;34m\u001b[0m\u001b[0;34m\u001b[0m\u001b[0m\n\u001b[1;32m   1734\u001b[0m                     \u001b[0mmode\u001b[0m \u001b[0;34m+=\u001b[0m \u001b[0;34m\"b\"\u001b[0m\u001b[0;34m\u001b[0m\u001b[0;34m\u001b[0m\u001b[0m\n\u001b[0;32m-> 1735\u001b[0;31m             self.handles = get_handle(\n\u001b[0m\u001b[1;32m   1736\u001b[0m                 \u001b[0mf\u001b[0m\u001b[0;34m,\u001b[0m\u001b[0;34m\u001b[0m\u001b[0;34m\u001b[0m\u001b[0m\n\u001b[1;32m   1737\u001b[0m                 \u001b[0mmode\u001b[0m\u001b[0;34m,\u001b[0m\u001b[0;34m\u001b[0m\u001b[0;34m\u001b[0m\u001b[0m\n",
            "\u001b[0;32m/usr/local/lib/python3.10/dist-packages/pandas/io/common.py\u001b[0m in \u001b[0;36mget_handle\u001b[0;34m(path_or_buf, mode, encoding, compression, memory_map, is_text, errors, storage_options)\u001b[0m\n\u001b[1;32m    854\u001b[0m         \u001b[0;32mif\u001b[0m \u001b[0mioargs\u001b[0m\u001b[0;34m.\u001b[0m\u001b[0mencoding\u001b[0m \u001b[0;32mand\u001b[0m \u001b[0;34m\"b\"\u001b[0m \u001b[0;32mnot\u001b[0m \u001b[0;32min\u001b[0m \u001b[0mioargs\u001b[0m\u001b[0;34m.\u001b[0m\u001b[0mmode\u001b[0m\u001b[0;34m:\u001b[0m\u001b[0;34m\u001b[0m\u001b[0;34m\u001b[0m\u001b[0m\n\u001b[1;32m    855\u001b[0m             \u001b[0;31m# Encoding\u001b[0m\u001b[0;34m\u001b[0m\u001b[0;34m\u001b[0m\u001b[0m\n\u001b[0;32m--> 856\u001b[0;31m             handle = open(\n\u001b[0m\u001b[1;32m    857\u001b[0m                 \u001b[0mhandle\u001b[0m\u001b[0;34m,\u001b[0m\u001b[0;34m\u001b[0m\u001b[0;34m\u001b[0m\u001b[0m\n\u001b[1;32m    858\u001b[0m                 \u001b[0mioargs\u001b[0m\u001b[0;34m.\u001b[0m\u001b[0mmode\u001b[0m\u001b[0;34m,\u001b[0m\u001b[0;34m\u001b[0m\u001b[0;34m\u001b[0m\u001b[0m\n",
            "\u001b[0;31mFileNotFoundError\u001b[0m: [Errno 2] No such file or directory: 'D:/nyc-taxi-trip-duration/test/test.csv'"
          ]
        }
      ]
    },
    {
      "cell_type": "code",
      "source": [
        "def _extract_datetime(df):\n",
        "    df.pickup_datetime = pd.to_datetime(df.pickup_datetime, format='%Y-%m-%d %H:%M:%S')\n",
        "    df['month'] = df.pickup_datetime.apply(lambda x: x.month)\n",
        "    df['week'] = df.pickup_datetime.apply(lambda x: x.week)\n",
        "    df['day'] = df.pickup_datetime.apply(lambda x: x.day)\n",
        "    df['hour'] = df.pickup_datetime.apply(lambda x: x.hour)\n",
        "\n",
        "_extract_datetime(dataTaxiTrip)\n",
        "print(dataTaxiTrip.shape)\n",
        "dataTaxiTrip.info()"
      ],
      "metadata": {
        "id": "GNr3eu-nR3qN"
      },
      "execution_count": null,
      "outputs": []
    },
    {
      "cell_type": "code",
      "source": [
        "import folium\n",
        "\n",
        "lat = dataTaxiTrip['pickup_latitude'].mean()\n",
        "long = dataTaxiTrip['pickup_longitude'].mean()\n",
        "zoom = 12\n",
        "\n",
        "gmapNYTaxi = folium.Map(location=[lat, long], zoom_start = zoom)\n",
        "# gmapNYTaxi.save('foliumNYTaxi.html')\n"
      ],
      "metadata": {
        "id": "BZw6tcVSSDOx"
      },
      "execution_count": 27,
      "outputs": []
    },
    {
      "cell_type": "code",
      "source": [
        "from folium.plugins import HeatMap\n",
        "\n",
        "dataTaxiTrip['count'] = 1\n",
        "heatmap = HeatMap(data=dataTaxiTrip[['pickup_latitude', 'pickup_longitude', 'count']]\n",
        "                  .groupby(['pickup_latitude', 'pickup_longitude'])\n",
        "                  .sum().reset_index().values.tolist(),\n",
        "                  radius=8,\n",
        "                  max_zoom=13)\n",
        "gmapNYTaxi.add_child(heatmap)\n",
        "gmapNYTaxi.save('foliumHeatMapNY.html')"
      ],
      "metadata": {
        "id": "_MZU7hsJSG61"
      },
      "execution_count": 28,
      "outputs": []
    },
    {
      "cell_type": "code",
      "source": [
        "dataTaxiTrip_hour_list = []\n",
        "\n",
        "for hour in dataTaxiTrip.hour.sort_values().unique():\n",
        "    dataTaxiTrip_hour_list.append(dataTaxiTrip.loc[dataTaxiTrip.hour == hour,\n",
        "                                    ['pickup_latitude', 'pickup_longitude', 'count']]\n",
        "                        .groupby(['pickup_latitude', 'pickup_longitude']).sum().reset_index().values.tolist())"
      ],
      "metadata": {
        "id": "JwQ0B-7wS108"
      },
      "execution_count": 29,
      "outputs": []
    },
    {
      "cell_type": "code",
      "source": [
        "from folium.plugins import HeatMapWithTime\n",
        "\n",
        "\n",
        "lat = dataTaxiTrip['pickup_latitude'].mean()\n",
        "long = dataTaxiTrip['pickup_longitude'].mean()\n",
        "zoom = 12\n",
        "\n",
        "gmapNYTaxi = folium.Map(location=[lat, long], zoom_start = zoom)\n",
        "\n",
        "heatmap = HeatMapWithTime(dataTaxiTrip_hour_list,\n",
        "                          radius=5,\n",
        "                          gradient={0.2: 'blue', 0.4: 'lime', 0.6: 'orange', 1: 'red'},\n",
        "                          min_opacity=0.5,\n",
        "                          max_opacity=0.8,\n",
        "                          use_local_extrema=True)\n",
        "\n",
        "gmapNYTaxi.add_child(heatmap)\n",
        "gmapNYTaxi.save('foliumHeatMapWithTimeNY.html')"
      ],
      "metadata": {
        "id": "dIFMlVkHS5fL"
      },
      "execution_count": 30,
      "outputs": []
    }
  ]
}